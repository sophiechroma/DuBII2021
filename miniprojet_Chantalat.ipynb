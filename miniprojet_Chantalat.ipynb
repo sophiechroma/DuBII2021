{
 "cells": [
  {
   "cell_type": "markdown",
   "metadata": {},
   "source": [
    "---\n",
    "title: \"Examen final Modules 4 et 5\"\n",
    "author: \"Sophie Chantalat\"\n",
    "subtitle: \"DUBii 2021\"\n",
    "date: \"`r format(Sys.time(), '%d %B, %Y')`\"\n",
    "bibliography: resources/biblio.bib \n",
    "csl: resources/biomed-central.csl\n",
    "output:\n",
    "    html_document:\n",
    "      css: [css/style.css, 'https://use.fontawesome.com/releases/v5.0.9/css/all.css']\n",
    "      self_contained: true\n",
    "      number_sections: false\n",
    "      code_folding: \"hide\"\n",
    "      toc: true\n",
    "      toc_depth: 3\n",
    "      toc_float: true\n",
    "      includes:\n",
    "        after_body: resources/footer.html\n",
    "---"
   ]
  },
  {
   "cell_type": "markdown",
   "metadata": {},
   "source": [
    "# Consignes {-}\n",
    "\n",
    "Complétez ce document en remplissant les chunks vides pour écrire le code qui vous a permis de répondre à la question. Les réponses attendant un résultat chiffré ou une explication devront être insérés entre le balises html `code`. Par exemple pour répondre à la question suivante :\n",
    "\n",
    "    La bioinfo c'est : <code>MERVEILLEUX</code>.\n",
    "    \n",
    "N'hésitez pas à commenter votre code, enrichier le rapport en y insérant des résultats ou des graphiques/images pour expliquer votre démarche. N'oubliez pas les **bonnes pratiques** pour une recherche **reproductible** !\n",
    "Nous souhaitons à minima que l'analyse soit reproductible sur le cluster de l'IFB."
   ]
  },
  {
   "cell_type": "markdown",
   "metadata": {},
   "source": [
    "# Introduction {-}\n",
    "\n",
    "Vous allez travailler sur des données de reséquençage d'un génome bactérien : _Bacillus subtilis_. Les données sont issues de cet article :\n",
    "\n",
    "* [Complete Genome Sequences of 13 Bacillus subtilis Soil Isolates for Studying Secondary Metabolite Diversity](https://mra.asm.org/content/9/2/e01406-19)"
   ]
  },
  {
   "cell_type": "markdown",
   "metadata": {},
   "source": [
    "# Récupération du projet dans mon home et transfert du dossier dans mon github"
   ]
  },
  {
   "cell_type": "code",
   "execution_count": null,
   "metadata": {},
   "outputs": [],
   "source": [
    "git clone git@github.com:sophiechroma/DuBII2021\n",
    "\n",
    "cd /shared/home/schantalat/Evaluation_M5-6/DuBII2021\n",
    "\n",
    "# récupération du dossier main.zip dans DuBII2021\n",
    "wget https://github.com/DU-Bii/EvaluationM4M5/archive/refs/heads/main.zip\n",
    "\n",
    "# vérifiation du status de mon git (qu'il n'y a rien en attente)\n",
    "git status\n",
    "\n",
    "# ajout de mon dossier\n",
    "git add main.zip\n",
    "\n",
    "# On commit puis on le push vers le githu sur la branche principale\n",
    "git status\n",
    "git commit -m \"Transfert_Dossier_zip_EvalM5-6\"\n",
    "git status"
   ]
  },
  {
   "cell_type": "markdown",
   "metadata": {},
   "source": [
    "J'ai ensuite vérifié sur mon github que le transfert était bien fait (git@github.com:sophiechroma/DuBII2021.git ou https://github.com/sophiechroma/DuBII2021.git)\n"
   ]
  },
  {
   "cell_type": "markdown",
   "metadata": {},
   "source": [
    "# Analyses\n",
    "\n",
    "## Organisation de mon espace de travail\n",
    " Création du dossier qui contiendra l'ensemble des éléments liés au projet. Les données récupérées seront stockées dans \"data\", le code (si écriture de scripts) dans \"bin\" et les analyses seront stockées dans \"results\"."
   ]
  },
  {
   "cell_type": "code",
   "execution_count": 1,
   "metadata": {},
   "outputs": [
    {
     "name": "stdout",
     "output_type": "stream",
     "text": [
      "/shared/home/schantalat/Evaluation_M5-6\n"
     ]
    }
   ],
   "source": [
    "cd /shared/home/schantalat/Evaluation_M5-6\n",
    "pwd"
   ]
  },
  {
   "cell_type": "markdown",
   "metadata": {},
   "source": [
    "# j'ai mis en commentaire les commandes lancées dans mon terminal, qui se mettent en erreur lorsque je le remets dans le chunk."
   ]
  },
  {
   "cell_type": "code",
   "execution_count": 6,
   "metadata": {},
   "outputs": [
    {
     "name": "stdout",
     "output_type": "stream",
     "text": [
      "bin  data  doc\tresults\n"
     ]
    }
   ],
   "source": [
    "mkdir  Bacillus_subtilis_Project\n",
    "cd Bacillus_subtilis_Project\n",
    "mkdir  data bin results doc\n",
    "ls\n"
   ]
  },
  {
   "cell_type": "code",
   "execution_count": 7,
   "metadata": {},
   "outputs": [
    {
     "name": "stdout",
     "output_type": "stream",
     "text": [
      "CLEANING  FASTQ  MAPPING  QC\n"
     ]
    }
   ],
   "source": [
    "\n",
    "cd results/\n",
    "mkdir  QC CLEANING FASTQ MAPPING\n",
    "ls"
   ]
  },
  {
   "cell_type": "markdown",
   "metadata": {},
   "source": [
    "## Téléchargement des données brutes"
   ]
  },
  {
   "cell_type": "markdown",
   "metadata": {},
   "source": [
    "Récupérez les fichiers FASTQ issus du run **SRR10390685** grâce à l'outil <strong class=\"tool\">sra-tools</strong> @sratoolkit\n",
    "\n",
    "Pour récupérer le SRR10390685, je suis allée sur l'article et j'ai cliqué sur PRJNA587401. J'ai ensuite cliqué sur  \"30\" SRA experiments. Puis, sur le [lien NCBI](https://www.ncbi.nlm.nih.gov/sra?linkname=bioproject_sra_all&from_uid=587401), j'ai entré directement la recherche SRR10390685 (pour une recherche plus rapide). Je suis ensuite allée sur le [lien \"SRR10390685\"](https://trace.ncbi.nlm.nih.gov/Traces/sra/?run=SRR10390685). Cela me permet d'avoir une première idée du **nombre de reads (7,1 millions)** et de vérifier qu'il s'agit de **données pairées**, ce qui me permet de choisir mon mode de récupération des fastq.\n"
   ]
  },
  {
   "cell_type": "code",
   "execution_count": null,
   "metadata": {},
   "outputs": [],
   "source": [
    "salloc --cpus-per-task=10 --mem=1G\n",
    "module load sra-tools/2.10.3\n",
    "\n",
    "srun --cpus-per-task=6 fasterq-dump --split-files -p SRR10390685 --outdir FASTQ\n",
    "cd FASTQ\n",
    "srun gzip *.fastq\n",
    "rm *.fastq"
   ]
  },
  {
   "cell_type": "markdown",
   "metadata": {},
   "source": [
    "Combien de reads sont présents dans les fichiers R1 et R2 ?"
   ]
  },
  {
   "cell_type": "code",
   "execution_count": 9,
   "metadata": {},
   "outputs": [
    {
     "name": "stdout",
     "output_type": "stream",
     "text": [
      "+SRR10390685.1 1 length=150\n",
      "+SRR10390685.2 2 length=117\n",
      "+SRR10390685.3 3 length=151\n",
      "+SRR10390685.4 4 length=150\n",
      "+SRR10390685.5 5 length=151\n",
      "+SRR10390685.6 6 length=150\n",
      "+SRR10390685.7 7 length=151\n",
      "+SRR10390685.8 8 length=151\n",
      "+SRR10390685.9 9 length=151\n",
      "+SRR10390685.10 10 length=151\n",
      "grep: write error\n",
      "\n",
      "gzip: stdout: Broken pipe\n",
      "7066055\n",
      "7066055\n"
     ]
    }
   ],
   "source": [
    "zgrep \"^+\" SRR10390685_1.fastq.gz | head\n",
    "zgrep \"^+\" SRR10390685_1.fastq.gz | wc -l\n",
    "zgrep \"^+\" SRR10390685_2.fastq.gz | wc -l"
   ]
  },
  {
   "cell_type": "markdown",
   "metadata": {},
   "source": [
    "Les fichiers FASTQ contiennent <code>7066055</code> reads."
   ]
  },
  {
   "cell_type": "markdown",
   "metadata": {},
   "source": [
    "Téléchargez le génome de référence de la souche ASM904v1 de _Bacillus subtilis_ disponible à [cette adresse](https://ftp.ncbi.nlm.nih.gov/genomes/all/GCF/000/009/045/GCF_000009045.1_ASM904v1/GCF_000009045.1_ASM904v1_genomic.fna.gz)\n"
   ]
  },
  {
   "cell_type": "code",
   "execution_count": null,
   "metadata": {},
   "outputs": [],
   "source": [
    "cd ../..\n",
    "cd data/"
   ]
  },
  {
   "cell_type": "code",
   "execution_count": null,
   "metadata": {},
   "outputs": [],
   "source": [
    "wget https://ftp.ncbi.nlm.nih.gov/genomes/all/GCF/000/009/045/GCF_000009045.1_ASM904v1/GCF_000009045.1_ASM904v1_genomic.fna.gz"
   ]
  },
  {
   "cell_type": "markdown",
   "metadata": {},
   "source": [
    "Quelle est la taille de ce génome ?"
   ]
  },
  {
   "cell_type": "code",
   "execution_count": null,
   "metadata": {},
   "outputs": [
    {
     "name": "stdout",
     "output_type": "stream",
     "text": [
      "gzip: GCF_000009045.1_ASM904v1_genomic.fna.gz: No such file or directory\n",
      "gzip: GCF_000009045.1_ASM904v1_genomic.fna.gz: No such file or directory\n",
      "WARNING: terminal is not fully functional\n"
     ]
    }
   ],
   "source": [
    "zcat GCF_000009045.1_ASM904v1_genomic.fna.gz | head\n",
    "# J'ai recherché à éliminer le header. Test avec grep dans un premier temps pour voir si je sélectionnais bien la bonne ligne.\n",
    "zcat GCF_000009045.1_ASM904v1_genomic.fna.gz | grep \">\" | less\n",
    "\n",
    "# puis, lancement avec grep -v pour éliminer le header du fasta :\n",
    "zcat GCF_000009045.1_ASM904v1_genomic.fna.gz | grep -v \">\" | head\n",
    "\n",
    "# et enfin, count avec wc -m\n",
    "zcat GCF_000009045.1_ASM904v1_genomic.fna.gz | grep -v \">\" |wc -m\n"
   ]
  },
  {
   "cell_type": "markdown",
   "metadata": {},
   "source": [
    "Je suis allée vérifier sur ncbi pour vérifier mon résultat en suivant le [lien ncbi GCF__000009045.1](https://www.ncbi.nlm.nih.gov/assembly/GCF_000009045.1/). Cela renvoie 4,215,606 bp. Je me suis rendue compte que j'avais oublé de tenir compte du retour à la ligne \\n dans le comptage. J'ai donc utilisé la commande tr avec l'option -d pour déléter ce retour à la ligne."
   ]
  },
  {
   "cell_type": "code",
   "execution_count": null,
   "metadata": {},
   "outputs": [],
   "source": [
    "zcat GCF_000009045.1_ASM904v1_genomic.fna.gz | grep -v \">\" | tr -d \"\\n\" | wc -m"
   ]
  },
  {
   "cell_type": "markdown",
   "metadata": {},
   "source": [
    "Vérification avec l'outil seqkit:"
   ]
  },
  {
   "cell_type": "code",
   "execution_count": null,
   "metadata": {},
   "outputs": [],
   "source": [
    "module load seqkit/0.14.0\n",
    "seqkit stats GCF_000009045.1_ASM904v1_genomic.fna.gz "
   ]
  },
  {
   "cell_type": "markdown",
   "metadata": {},
   "source": [
    "La taille de ce génome est de <code>4215606</code> paires de bases.\n",
    "ce qui est en accord avec les données sur ncbi et avec ma seconde méthode avec seqkit."
   ]
  },
  {
   "cell_type": "markdown",
   "metadata": {},
   "source": [
    "Téléchargez l'annotation de la souche ASM904v1 de _Bacillus subtilis_ disponible à [cette adresse](https://ftp.ncbi.nlm.nih.gov/genomes/all/GCF/000/009/045/GCF_000009045.1_ASM904v1/GCF_000009045.1_ASM904v1_genomic.gff.gz)"
   ]
  },
  {
   "cell_type": "code",
   "execution_count": null,
   "metadata": {},
   "outputs": [],
   "source": [
    "wget https://ftp.ncbi.nlm.nih.gov/genomes/all/GCF/000/009/045/GCF_000009045.1_ASM904v1/GCF_000009045.1_ASM904v1_genomic.gff.gz"
   ]
  },
  {
   "cell_type": "markdown",
   "metadata": {},
   "source": [
    "Combien de gènes sont connus pour ce génome ?"
   ]
  },
  {
   "cell_type": "markdown",
   "metadata": {},
   "source": [
    "Pour avoir une idée de la structure du fichier gff, j'ai fait un less dessus.\n",
    "Puis, j'ai vu que l'information \"gene\" était dans la colonne 3."
   ]
  },
  {
   "cell_type": "code",
   "execution_count": null,
   "metadata": {},
   "outputs": [],
   "source": [
    "zcat GCF_000009045.1_ASM904v1_genomic.gff.gz | less\n",
    "# récupération de la colonne 3\n",
    "zcat GCF_000009045.1_ASM904v1_genomic.gff.gz | cut -f 3 | less\n",
    "# récupération des lignes contenant\"gene\" avec grep (je finis par head pour vérifier que j'ai bien la sortie que je veux)\n",
    "zcat GCF_000009045.1_ASM904v1_genomic.gff.gz | cut -f 3 | grep \"gene\" | head\n",
    "# comptage du nombre de lignes\n",
    "zcat GCF_000009045.1_ASM904v1_genomic.gff.gz | cut -f 3 | grep \"gene\" | wc -l"
   ]
  },
  {
   "cell_type": "markdown",
   "metadata": {},
   "source": [
    "<code>4536</code> gènes sont recensés dans le fichier d'annotation. 4260 étaient repertoriés dans Uniprot mais ref à un article de 1997).\n"
   ]
  },
  {
   "cell_type": "markdown",
   "metadata": {},
   "source": [
    "## Contrôle qualité"
   ]
  },
  {
   "cell_type": "markdown",
   "metadata": {},
   "source": [
    "Lancez l'outil <strong class=\"tool\">fastqc</strong> @fastqc dédié à l'analyse de la qualité des bases issues d'un séquençage haut-débit\n"
   ]
  },
  {
   "cell_type": "code",
   "execution_count": null,
   "metadata": {},
   "outputs": [],
   "source": [
    "cd ..\n",
    "cd results/\n",
    "module load fastqc/0.11.9\n",
    "srun --cpus-per-task 8 fastqc FASTQ/SRR10390685_*.fastq.gz -o QC/ -t 8\n",
    "# je n'ai pas lancé de job array car je n'avais que deux fastq à traiter.\n",
    "\n",
    "# J'ai transféré les rapports html dans l'un de mes répertoires sur le cluster du CNRGH, pour les ouvrir enuite avec firefox\n",
    "scp schantalat@core.cluster.france-bioinformatique.fr:/shared/home/schantalat/Evaluation_M5-6/Bacillus_subtilis_Project/results/QC/*.html .\n"
   ]
  },
  {
   "cell_type": "markdown",
   "metadata": {},
   "source": [
    "La qualité des bases vous paraît-elle satisfaisante ? Pourquoi ?\n",
    "\n",
    "- [X] Oui\n",
    "- [ ] Non"
   ]
  },
  {
   "cell_type": "markdown",
   "metadata": {},
   "source": [
    "car <code> toutes les bases des reads 1 et 2 ont un Q score supérieur à 28 </code> comme le montre <code> le graphe sur le Per base sequence quality</code>. Par contre, le taux de duplicats est élevé (de 40 à 50%), ce qui indique certainement qu'il y a eu trop de cycles PCR lors de la synthèse de la library."
   ]
  },
  {
   "cell_type": "code",
   "execution_count": null,
   "metadata": {},
   "outputs": [],
   "source": [
    "module load multiqc/1.9\n",
    "\n",
    "cd FASTQ\n",
    "multiqc . \n",
    "mv multiqc_data multiqc_report.html ../QC/\n",
    "\n",
    "# Copie sur mon terminal au CNRGH pour visualiser le rapport html\n",
    "scp schantalat@core.cluster.france-bioinformatique.fr:/shared/home/schantalat/Evaluation_M5-6/Bacillus_subtilis_Project/results/QC/multiqc_report.html .\n"
   ]
  },
  {
   "cell_type": "markdown",
   "metadata": {},
   "source": [
    "Lien vers le [rapport MultiQC](https://jupyterhub.cluster.france-bioinformatique.fr/user/schantalat/files/shared/home/schantalat/Evaluation_M5-6/Bacillus_subtilis_Project/results/QC/multiqc_report.html?_xsrf=2%7C872afc6b%7C8e6511a454ec9f12077eb7a45505bbfd%7C1617705099)"
   ]
  },
  {
   "cell_type": "markdown",
   "metadata": {},
   "source": [
    "Est-ce que les reads déposés ont subi une étape de nettoyage avant d'être déposés ? Pourquoi ?\n",
    "\n",
    "- [X] Oui\n",
    "- [ ] Non\n",
    "\n",
    "car <code> la longueur des reads varient entre 130-151 pb, ce qui indique qu'il y a eu dans certains cas un trimming </code>"
   ]
  },
  {
   "cell_type": "markdown",
   "metadata": {},
   "source": [
    "Quelle est la profondeur de séquençage (calculée par rapport à la taille du génome de référence) ?\n",
    "\n",
    "J'ai appliqué la formule \n",
    "(number of reads  * average read length) / total length of the genome. )\n",
    "\n",
    "J'ai recherché dans le rapport multiqc (multiqc_general_stats.txt), les colonnes contenant les nombres de reads et le longeur moyenne des reads puis j'ai calcule le nombre de bases total couvert par les reads.\n"
   ]
  },
  {
   "cell_type": "code",
   "execution_count": null,
   "metadata": {},
   "outputs": [],
   "source": [
    "cd ../QC\n",
    "cat multiqc_general_stats.txt | cut -f 4,6 > multiqc_forRead_depth\n",
    "\n",
    "awk '{print $1*$2}'  multiqc_forRead_depth | awk '{print $1}'"
   ]
  },
  {
   "cell_type": "markdown",
   "metadata": {},
   "source": [
    "1057270000\n",
    "1062807718"
   ]
  },
  {
   "cell_type": "markdown",
   "metadata": {},
   "source": [
    "J'ai ensuite réalisé l'opération (number of reads mapped * average read length) / total length of the genome. )\n",
    "(1057270000 + 1062807718) / 4215606 = 503\n",
    "\n",
    "\n",
    "La profondeur de séquençage est de : <code>503</code> X."
   ]
  },
  {
   "cell_type": "markdown",
   "metadata": {},
   "source": [
    "## Nettoyage des reads"
   ]
  },
  {
   "cell_type": "markdown",
   "metadata": {},
   "source": [
    "Vous voulez maintenant nettoyer un peu vos lectures. Choisissez les paramètres de <strong class=\"tool\">fastp</strong> @fastp qui vous semblent adéquats et justifiez-les."
   ]
  },
  {
   "cell_type": "code",
   "execution_count": null,
   "metadata": {},
   "outputs": [],
   "source": [
    "module load fastp/0.20.0 \n",
    "\n",
    "srun --cpus-per-task 8 fastp --in1 FASTQ/SRR10390685_1.fastq.gz --in2 FASTQ/SRR10390685_2.fastq.gz --out1 CLEANING/SRR10390685_1.cleaned_filtered.fastq.gz --out2 CLEANING/SRR10390685_2.cleaned_filtered.fastq.gz --html CLEANING/fastp.html --thread 8 --cut_mean_quality 30 --cut_window_size 8 --length_required 100 --cut_tail --json CLEANING/fastp.json\n",
    "\n",
    "# je vérifie mon étape de cleaning :\n",
    "\n",
    "cd ../CLEANING\n",
    "\n",
    "seqkit stats *.fastq.gz\n"
   ]
  },
  {
   "cell_type": "markdown",
   "metadata": {},
   "source": [
    "Les paramètres suivants ont été choisis : \n",
    "\n",
    "\n",
    "|Parametre | Valeur | Explication |\n",
    "|----------|--------|-------------|\n",
    "|cut_mean_quality  | 30 |la majorité des bases passent le Q30 sur l'ensemble des reads R1 et R2, donc on peut être stringent  |\n",
    "|length_required   | 100 | je demande de conserver uniquement les reads d'une taille sup à 100 nt, la longueur des reads variant entre 130-151 pb, je peux choisir cette longueur minimum, qui reste suffisante pour réaliser l'alignement   |\n",
    "|cut_tail  | 30 | coupure en 3' du read si la qualité n'atteint pas le threshold (Q30, défini par cut-mean_quality),ce qui est justifié puisque la qualité diminue en 3' |\n",
    "\n",
    "Ces paramètres ont permis de conserver <code>6,777,048</code> reads pairés, soit une perte de <code>4,1</code>% des reads bruts."
   ]
  },
  {
   "cell_type": "markdown",
   "metadata": {},
   "source": [
    "## Alignement des reads sur le génome de référence"
   ]
  },
  {
   "cell_type": "markdown",
   "metadata": {},
   "source": [
    "Maintenant, vous allez aligner ces reads nettoyés sur le génome de référence à l'aide de <strong class=\"tool\">bwa</strong> @bwa et <strong class=\"tool\">samtools</strong> @samtools."
   ]
  },
  {
   "cell_type": "code",
   "execution_count": null,
   "metadata": {},
   "outputs": [],
   "source": [
    "module load bwa/0.7.17\n",
    "\n",
    "# j'indexe le génome avant de procéder à l'alignement avec bwa index.\n",
    "# J'ai décompressé le .fna préalablement\n",
    "\n",
    "cd ../../data/\n",
    "\n",
    "gunzip GCF_000009045.1_ASM904v1_genomic.fna.gz\n",
    "bwa index GCF_000009045.1_ASM904v1_genomic.fna index_prefix\n",
    "\n",
    "# J'ai augmenté le nombre de cpu par task et la mémoire (car j'ai eu un premier test avec un retour OUT-OF-MEMORY).\n",
    "salloc --cpus-per-task=32 --mem=4G\n",
    "\n",
    "# Lancement de l'alignement\n",
    "\n",
    "srun --cpus-per-task=32 bwa mem GCF_000009045.1_ASM904v1_genomic.fna ../results/CLEANING/SRR10390685_1.cleaned_filtered.fastq.gz ../results/CLEANING/SRR10390685_2.cleaned_filtered.fastq.gz -t 32 > ../results/MAPPING/SRR10390685onASM904v1.sam"
   ]
  },
  {
   "cell_type": "markdown",
   "metadata": {},
   "source": [
    "Combien de reads ne sont pas mappés ?"
   ]
  },
  {
   "cell_type": "code",
   "execution_count": null,
   "metadata": {},
   "outputs": [],
   "source": [
    "cd ../results/MAPPING/\n",
    "\n",
    "module load samtools/1.10\n",
    "\n",
    "# conversion du sam en bam:\n",
    "srun --cpus-per-task=8 samtools view --threads 8 SRR10390685onASM904v1.sam -b > SRR10390685onASM904v1.bam\n",
    "\n",
    "#Tri du bam généré (nécessaire pour certaines commandes, notamment avec bedtools)\n",
    "srun samtools sort SRR10390685onASM904v1.bam -o SRR10390685onASM904v1.sort.bam\n",
    "\n",
    "#Indexing du bam (je génère le bai car il peut être utile notamment pour certaines conversion, comme le wig et bw)\n",
    "srun samtools index SRR10390685onASM904v1.sort.bam"
   ]
  },
  {
   "cell_type": "markdown",
   "metadata": {},
   "source": [
    "Elimination du fichier sam, qui n'est plus utile."
   ]
  },
  {
   "cell_type": "code",
   "execution_count": null,
   "metadata": {},
   "outputs": [],
   "source": [
    "rm SRR10390685onASM904v1.sam"
   ]
  },
  {
   "cell_type": "markdown",
   "metadata": {},
   "source": [
    "### Contrôle du mapping"
   ]
  },
  {
   "cell_type": "code",
   "execution_count": null,
   "metadata": {},
   "outputs": [],
   "source": [
    " srun samtools idxstats SRR10390685onASM904v1.sort.bam > SRR10390685onASM904v1.sort.bam.idxstats\n",
    " srun samtools flagstat SRR10390685onASM904v1.sort.bam > SRR10390685onASM904v1.sort.bam.flagstat"
   ]
  },
  {
   "cell_type": "markdown",
   "metadata": {},
   "source": [
    "Dans l'output flagstat, on voit que l'on a eu 94% d'alignement. Dans l'output idxstats, on retouve le nombre de reads non mappés : \n",
    "<code>40266</code> reads ne sont pas mappés."
   ]
  },
  {
   "cell_type": "code",
   "execution_count": 12,
   "metadata": {},
   "outputs": [
    {
     "name": "stdout",
     "output_type": "stream",
     "text": [
      ".\n",
      "├── CLEANING\n",
      "│   ├── fastp.html\n",
      "│   ├── fastp.json\n",
      "│   ├── SRR10390685_1.cleaned_filtered.fastq.gz\n",
      "│   └── SRR10390685_2.cleaned_filtered.fastq.gz\n",
      "├── FASTQ\n",
      "│   ├── SRR10390685_1.fastq\n",
      "│   ├── SRR10390685_1.fastq.gz\n",
      "│   ├── SRR10390685_2.fastq\n",
      "│   └── SRR10390685_2.fastq.gz\n",
      "├── MAPPING\n",
      "│   ├── reads_trmNF\n",
      "│   ├── SRR10390685onASM904v1.bam\n",
      "│   ├── SRR10390685onASM904v1.sort.bam\n",
      "│   ├── SRR10390685onASM904v1.sort.bam.bai\n",
      "│   ├── SRR10390685onASM904v1.sort.bam.flagstat\n",
      "│   ├── SRR10390685onASM904v1.sort.bam.idxstats\n",
      "│   ├── SRR10390685onASM904v1.sort.bed\n",
      "│   ├── SRR10390685ontrmNF.bam\n",
      "│   ├── SRR10390685ontrmNF_overlap50.bam\n",
      "│   ├── SRR10390685ontrmNF_overlap50.sort.bam\n",
      "│   └── SRR10390685ontrmNF_overlap50.sort.bam.bai\n",
      "└── QC\n",
      "    ├── multiqc_data\n",
      "    │   ├── multiqc_data.json\n",
      "    │   ├── multiqc_fastqc.txt\n",
      "    │   ├── multiqc_forRead_depth\n",
      "    │   ├── multiqc_general_stats.txt\n",
      "    │   ├── multiqc.log\n",
      "    │   └── multiqc_sources.txt\n",
      "    ├── multiqc_report.html\n",
      "    ├── SRR10390685_1_fastqc.html\n",
      "    ├── SRR10390685_1_fastqc.zip\n",
      "    ├── SRR10390685_2_fastqc.html\n",
      "    └── SRR10390685_2_fastqc.zip\n",
      "\n",
      "5 directories, 30 files\n"
     ]
    }
   ],
   "source": [
    "cd /shared/home/schantalat/Evaluation_M5-6/Bacillus_subtilis_Project/results\n",
    "tree"
   ]
  },
  {
   "cell_type": "markdown",
   "metadata": {},
   "source": [
    "## Croisement de données"
   ]
  },
  {
   "cell_type": "markdown",
   "metadata": {},
   "source": [
    "Calculez le nombre de reads qui chevauchent avec au moins 50% de leur longueur le gène _trmNF_ grâce à l'outil <strong class=\"tool\">bedtools</strong> @bedtools:"
   ]
  },
  {
   "cell_type": "code",
   "execution_count": null,
   "metadata": {},
   "outputs": [],
   "source": [
    "gunzip ../data/GCF_000009045.1_ASM904v1_genomic.gff.gz\n",
    "\n",
    "# Récupération des informations relatives au gène trmNF dans le fichier d'annotation gff.\n",
    "cat ../data/GCF_000009045.1_ASM904v1_genomic.gff | grep \"ID=gene\" | grep \"trmNF\" > ../data/trmNF.gff\n",
    "\n",
    "# à partir des intervalles (ccordonnées), je vais pouvoir rechercher combien de reads mappés chevauchent le gène trmNF: \n",
    "cd MAPPING\n",
    "\n",
    "module load bedtools/2.29.2 \n",
    "# Recherche des reads qui chevauchent le gène trmNF avec au moins 1bp en commun :\n",
    "srun bedtools intersect -a SRR10390685onASM904v1.sort.bam -b ../../data/trmNF.gff > SRR10390685ontrmNF.bam\n",
    "\n",
    "# Recherche des reads qui chevauchent le gène trmNF avec au moins 50% des bases du read :\n",
    "\n",
    "srun bedtools intersect -a SRR10390685onASM904v1.sort.bam -b ../../data/trmNF.gff -f 0.5 > SRR10390685ontrmNF_overlap50.bam\n",
    "\n",
    "# comptage du nombre de reads : \n",
    "samtools view SRR10390685ontrmNF_overlap50.bam | grep \"^SRR\" | wc -l\n"
   ]
  },
  {
   "cell_type": "markdown",
   "metadata": {},
   "source": [
    "<code> 2801</code> reads chevauchent le gène d'intérêt."
   ]
  },
  {
   "cell_type": "markdown",
   "metadata": {},
   "source": [
    "## Visualisation\n",
    "\n",
    "Utilisez <strong class=\"tool\">IGV</strong> @igv sous [sa version en ligne](https://igv.org/app/) pour visualiser les alignements sur le gène. Faites une capture d'écran du gène entier."
   ]
  },
  {
   "cell_type": "code",
   "execution_count": null,
   "metadata": {},
   "outputs": [],
   "source": [
    "# création de l'index sur les reads alignés :\n",
    "samtools faidx SRR10390685onASM904v1.sort.bam\n",
    "\n",
    "# création de l'index du génome :\n",
    "cd ../../data/\n",
    "samtools faidx GCF_000009045.1_ASM904v1_genomic.fna\n",
    "\n",
    "\n",
    "```{bash}\n",
    "scp schantalat@core.cluster.france-bioinformatique.fr:/shared/home/schantalat/Evaluation_M5-6/Bacillus_subtilis_Project/data/GCF_000009045.1_ASM904v1_genomic.fna .\n",
    "\n",
    "scp schantalat@core.cluster.france-bioinformatique.fr:/shared/home/schantalat/Evaluation_M5-6/Bacillus_subtilis_Project/results/MAPPING/*.bam .\n",
    "\n",
    "scp schantalat@core.cluster.france-bioinformatique.fr:/shared/home/schantalat/Evaluation_M5-6/Bacillus_subtilis_Project/results/MAPPING/*.bai .\n",
    "\n",
    "scp schantalat@core.cluster.france-bioinformatique.fr:/shared/home/schantalat/Evaluation_M5-6/Bacillus_subtilis_Project/data/GCF_000009045.1_ASM904v1_genomic.fna.fai .\n",
    "\n",
    "scp schantalat@core.cluster.france-bioinformatique.fr:/shared/home/schantalat/Evaluation_M5-6/Bacillus_subtilis_Project/results/MAPPING/SRR10390685ontrmNF_overlap50.sort.bam* .\n",
    "\n",
    "cd ../\n"
   ]
  },
  {
   "cell_type": "markdown",
   "metadata": {},
   "source": [
    "Le nom de l'image ci-dessous est ![](Trm_file.png)"
   ]
  },
  {
   "cell_type": "markdown",
   "metadata": {},
   "source": [
    "# Structure finale du projet"
   ]
  },
  {
   "cell_type": "code",
   "execution_count": 13,
   "metadata": {},
   "outputs": [
    {
     "name": "stdout",
     "output_type": "stream",
     "text": [
      ".\n",
      "├── bin\n",
      "├── data\n",
      "│   ├── GCF_000009045.1_ASM904v1_genomic.fna\n",
      "│   ├── GCF_000009045.1_ASM904v1_genomic.fna.amb\n",
      "│   ├── GCF_000009045.1_ASM904v1_genomic.fna.ann\n",
      "│   ├── GCF_000009045.1_ASM904v1_genomic.fna.bwt\n",
      "│   ├── GCF_000009045.1_ASM904v1_genomic.fna.fai\n",
      "│   ├── GCF_000009045.1_ASM904v1_genomic.fna.gz.amb\n",
      "│   ├── GCF_000009045.1_ASM904v1_genomic.fna.gz.ann\n",
      "│   ├── GCF_000009045.1_ASM904v1_genomic.fna.gz.bwt\n",
      "│   ├── GCF_000009045.1_ASM904v1_genomic.fna.gz.pac\n",
      "│   ├── GCF_000009045.1_ASM904v1_genomic.fna.gz.sa\n",
      "│   ├── GCF_000009045.1_ASM904v1_genomic.fna.pac\n",
      "│   ├── GCF_000009045.1_ASM904v1_genomic.fna.sa\n",
      "│   ├── GCF_000009045.1_ASM904v1_genomic.gff\n",
      "│   ├── SRR10390685onASM904v1.sam\n",
      "│   ├── test\n",
      "│   └── trmNF.gff\n",
      "├── doc\n",
      "│   ├── Evaluation_Chantalat2.Rmd\n",
      "│   ├── Evaluation_Chantalat3.Rmd\n",
      "│   ├── miniprojet_Chantalat.html\n",
      "│   └── miniprojet_Chantalat.ipynb\n",
      "├── DuBII2021\n",
      "│   ├── DuBII2021.Rproj\n",
      "│   ├── Firstfile.txt\n",
      "│   ├── main.zip\n",
      "│   ├── Markdown.html\n",
      "│   ├── Markdown.Rmd\n",
      "│   ├── monPremierRmd.html\n",
      "│   ├── monPremierRmd.Rmd\n",
      "│   ├── README.md\n",
      "│   └── test_file\n",
      "├── results\n",
      "│   ├── CLEANING\n",
      "│   │   ├── fastp.html\n",
      "│   │   ├── fastp.json\n",
      "│   │   ├── SRR10390685_1.cleaned_filtered.fastq.gz\n",
      "│   │   └── SRR10390685_2.cleaned_filtered.fastq.gz\n",
      "│   ├── FASTQ\n",
      "│   │   ├── SRR10390685_1.fastq\n",
      "│   │   ├── SRR10390685_1.fastq.gz\n",
      "│   │   ├── SRR10390685_2.fastq\n",
      "│   │   └── SRR10390685_2.fastq.gz\n",
      "│   ├── MAPPING\n",
      "│   │   ├── reads_trmNF\n",
      "│   │   ├── SRR10390685onASM904v1.bam\n",
      "│   │   ├── SRR10390685onASM904v1.sort.bam\n",
      "│   │   ├── SRR10390685onASM904v1.sort.bam.bai\n",
      "│   │   ├── SRR10390685onASM904v1.sort.bam.flagstat\n",
      "│   │   ├── SRR10390685onASM904v1.sort.bam.idxstats\n",
      "│   │   ├── SRR10390685onASM904v1.sort.bed\n",
      "│   │   ├── SRR10390685ontrmNF.bam\n",
      "│   │   ├── SRR10390685ontrmNF_overlap50.bam\n",
      "│   │   ├── SRR10390685ontrmNF_overlap50.sort.bam\n",
      "│   │   └── SRR10390685ontrmNF_overlap50.sort.bam.bai\n",
      "│   └── QC\n",
      "│       ├── multiqc_data\n",
      "│       │   ├── multiqc_data.json\n",
      "│       │   ├── multiqc_fastqc.txt\n",
      "│       │   ├── multiqc_forRead_depth\n",
      "│       │   ├── multiqc_general_stats.txt\n",
      "│       │   ├── multiqc.log\n",
      "│       │   └── multiqc_sources.txt\n",
      "│       ├── multiqc_report.html\n",
      "│       ├── SRR10390685_1_fastqc.html\n",
      "│       ├── SRR10390685_1_fastqc.zip\n",
      "│       ├── SRR10390685_2_fastqc.html\n",
      "│       └── SRR10390685_2_fastqc.zip\n",
      "└── Trm_file.png\n",
      "\n",
      "10 directories, 60 files\n"
     ]
    }
   ],
   "source": [
    "cd /shared/home/schantalat/Evaluation_M5-6/Bacillus_subtilis_Project\n",
    "tree"
   ]
  },
  {
   "cell_type": "markdown",
   "metadata": {},
   "source": [
    "# Récupération du projet finalisé dans mon home et transfert du dossier dans mon github"
   ]
  },
  {
   "cell_type": "markdown",
   "metadata": {},
   "source": [
    "et également dépôt du multiQC html dans le git."
   ]
  },
  {
   "cell_type": "code",
   "execution_count": null,
   "metadata": {},
   "outputs": [],
   "source": [
    "git clone git@github.com:sophiechroma/DuBII2021\n",
    "\n",
    "cd /shared/home/schantalat/Evaluation_M5-6/DuBII2021\n",
    "\n",
    "# récupération du dossier main.zip dans DuBII2021\n",
    "wget https://github.com/DU-Bii/EvaluationM4M5/archive/refs/heads/main.zip\n",
    "\n",
    "# vérifiation du status de mon git (qu'il n'y a rien en attente)\n",
    "git status\n",
    "\n",
    "# ajout de mon dossier\n",
    "git add main.zip\n",
    "\n",
    "# On commit puis on le push vers le githu sur la branche principale\n",
    "git status\n",
    "git commit -m \"Transfert_Dossier_zip_EvalM5-6\"\n",
    "git status"
   ]
  }
 ],
 "metadata": {
  "kernelspec": {
   "display_name": "Bash",
   "language": "bash",
   "name": "bash"
  },
  "language_info": {
   "codemirror_mode": "shell",
   "file_extension": ".sh",
   "mimetype": "text/x-sh",
   "name": "bash"
  }
 },
 "nbformat": 4,
 "nbformat_minor": 4
}
